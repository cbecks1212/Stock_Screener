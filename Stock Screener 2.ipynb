{
 "cells": [
  {
   "cell_type": "code",
   "execution_count": 16,
   "metadata": {},
   "outputs": [],
   "source": [
    "import pandas as pd\n",
    "import numpy as np\n",
    "import ipywidgets as widgets\n",
    "from ipywidgets import interact "
   ]
  },
  {
   "cell_type": "code",
   "execution_count": 3,
   "metadata": {},
   "outputs": [],
   "source": [
    "df = pd.read_excel('YOUR FILE PATH')\n",
    "#Rename unnamed column to 'symbol'\n",
    "df.rename(columns={'Unnamed: 0': 'symbol'},inplace=True)"
   ]
  },
  {
   "cell_type": "code",
   "execution_count": 4,
   "metadata": {},
   "outputs": [
    {
     "data": {
      "text/html": [
       "<div>\n",
       "<style scoped>\n",
       "    .dataframe tbody tr th:only-of-type {\n",
       "        vertical-align: middle;\n",
       "    }\n",
       "\n",
       "    .dataframe tbody tr th {\n",
       "        vertical-align: top;\n",
       "    }\n",
       "\n",
       "    .dataframe thead th {\n",
       "        text-align: right;\n",
       "    }\n",
       "</style>\n",
       "<table border=\"1\" class=\"dataframe\">\n",
       "  <thead>\n",
       "    <tr style=\"text-align: right;\">\n",
       "      <th></th>\n",
       "      <th>symbol</th>\n",
       "      <th>rev_growth</th>\n",
       "      <th>eps_growth</th>\n",
       "      <th>profit_growth</th>\n",
       "      <th>beat_med_rev</th>\n",
       "      <th>beat_med_eps</th>\n",
       "      <th>beat_med_profit</th>\n",
       "    </tr>\n",
       "  </thead>\n",
       "  <tbody>\n",
       "    <tr>\n",
       "      <th>0</th>\n",
       "      <td>DOCU</td>\n",
       "      <td>0.389464</td>\n",
       "      <td>-0.626582</td>\n",
       "      <td>-0.511420</td>\n",
       "      <td>1</td>\n",
       "      <td>-1</td>\n",
       "      <td>-1</td>\n",
       "    </tr>\n",
       "    <tr>\n",
       "      <th>1</th>\n",
       "      <td>ZM</td>\n",
       "      <td>NaN</td>\n",
       "      <td>NaN</td>\n",
       "      <td>NaN</td>\n",
       "      <td>-1</td>\n",
       "      <td>-1</td>\n",
       "      <td>-1</td>\n",
       "    </tr>\n",
       "    <tr>\n",
       "      <th>2</th>\n",
       "      <td>DXCM</td>\n",
       "      <td>0.373276</td>\n",
       "      <td>-0.181495</td>\n",
       "      <td>-0.166107</td>\n",
       "      <td>1</td>\n",
       "      <td>-1</td>\n",
       "      <td>-1</td>\n",
       "    </tr>\n",
       "    <tr>\n",
       "      <th>3</th>\n",
       "      <td>SPLK</td>\n",
       "      <td>0.354958</td>\n",
       "      <td>-0.035221</td>\n",
       "      <td>0.004915</td>\n",
       "      <td>1</td>\n",
       "      <td>-1</td>\n",
       "      <td>-1</td>\n",
       "    </tr>\n",
       "    <tr>\n",
       "      <th>4</th>\n",
       "      <td>SGEN</td>\n",
       "      <td>0.303700</td>\n",
       "      <td>0.054375</td>\n",
       "      <td>0.127457</td>\n",
       "      <td>1</td>\n",
       "      <td>-1</td>\n",
       "      <td>-1</td>\n",
       "    </tr>\n",
       "  </tbody>\n",
       "</table>\n",
       "</div>"
      ],
      "text/plain": [
       "  symbol  rev_growth  eps_growth  profit_growth  beat_med_rev  beat_med_eps  \\\n",
       "0   DOCU    0.389464   -0.626582      -0.511420             1            -1   \n",
       "1     ZM         NaN         NaN            NaN            -1            -1   \n",
       "2   DXCM    0.373276   -0.181495      -0.166107             1            -1   \n",
       "3   SPLK    0.354958   -0.035221       0.004915             1            -1   \n",
       "4   SGEN    0.303700    0.054375       0.127457             1            -1   \n",
       "\n",
       "   beat_med_profit  \n",
       "0               -1  \n",
       "1               -1  \n",
       "2               -1  \n",
       "3               -1  \n",
       "4               -1  "
      ]
     },
     "execution_count": 4,
     "metadata": {},
     "output_type": "execute_result"
    }
   ],
   "source": [
    "median_rev = df['rev_growth'].median()\n",
    "median_eps = df['eps_growth'].median()\n",
    "median_profit = df['profit_growth'].median()\n",
    "\n",
    "\n",
    "df['beat_med_rev'] = np.where(df['rev_growth']>median_rev,1,-1)\n",
    "df['beat_med_eps'] = np.where(df['eps_growth']>median_eps,1,-1)\n",
    "df['beat_med_profit'] = np.where(df['profit_growth']>median_profit,1,-1)\n",
    "df.head()"
   ]
  },
  {
   "cell_type": "code",
   "execution_count": 5,
   "metadata": {},
   "outputs": [],
   "source": [
    "no_nan = df.dropna()"
   ]
  },
  {
   "cell_type": "code",
   "execution_count": 15,
   "metadata": {},
   "outputs": [
    {
     "data": {
      "application/vnd.jupyter.widget-view+json": {
       "model_id": "08e9a15a32a249a49c9fa436d3b3ca90",
       "version_major": 2,
       "version_minor": 0
      },
      "text/plain": [
       "interactive(children=(FloatSlider(value=0.0, description='rev', max=1.0, min=-1.0), FloatSlider(value=0.0, des…"
      ]
     },
     "metadata": {},
     "output_type": "display_data"
    }
   ],
   "source": [
    "@interact\n",
    "def filter_stocks(rev=widgets.FloatSlider(min=-1.0, max=1.0), \n",
    "                  profit=widgets.FloatSlider(min=-1.0, max=1.0),\n",
    "                 eps=widgets.FloatSlider(min=-1.0, max=1.0),\n",
    "                 beat_rev=widgets.Checkbox(value=False, description='Beat Median Rev', disabled=False),\n",
    "                 beat_profit=widgets.Checkbox(value=False, description='Beat Median Profit', disabled=False),\n",
    "                 beat_eps=widgets.Checkbox(value=False, description='Beat Median EPS', disabled=False)):\n",
    "    \n",
    "    if beat_rev == False and beat_profit == False and beat_eps == False:\n",
    "        filtered_df = no_nan.query(\"rev_growth>=@rev and eps_growth>=@eps and profit_growth>=@profit\")\n",
    "    \n",
    "    \n",
    "    elif beat_rev != False and beat_profit != False and beat_eps != False:\n",
    "        filtered_df = no_nan.query(\"rev_growth>=@rev and eps_growth>=@eps and profit_growth>=@profit and beat_med_rev=='1' and beat_med_eps=='1' and beat_med_profit=='1'\")\n",
    "        \n",
    "    elif beat_rev != False and beat_profit == False and beat_eps == False:\n",
    "        filtered_df = no_nan.query(\"rev_growth>=@rev and eps_growth>=@eps and profit_growth>=@profit and beat_med_rev=='1'\")\n",
    "    \n",
    "    elif beat_rev == False and beat_profit != False and beat_eps == False:\n",
    "        filtered_df = no_nan.query(\"rev_growth>=@rev and eps_growth>=@eps and profit_growth>=@profit and beat_med_profit=='1'\")\n",
    "        \n",
    "    elif beat_rev == False and beat_profit == False and beat_eps != False:\n",
    "        filtered_df = no_nan.query(\"rev_growth>=@rev and eps_growth>=@eps and profit_growth>=@profit and beat_med_eps=='1'\")\n",
    "        \n",
    "    elif beat_rev != False and beat_profit != False and beat_eps == False:\n",
    "        filtered_df = no_nan.query(\"rev_growth>=@rev and eps_growth>=@eps and profit_growth>=@profit and beat_med_rev=='1' and beat_med_profit=='1'\")\n",
    "    \n",
    "    elif beat_rev != False and beat_profit == False and beat_eps != False:\n",
    "        filtered_df = no_nan.query(\"rev_growth>=@rev and eps_growth>=@eps and profit_growth>=@profit and beat_med_rev=='1' and beat_med_eps=='1'\")\n",
    "        \n",
    "    elif beat_rev == False and beat_profit != False and beat_eps != False:\n",
    "        filtered_df = no_nan.query(\"rev_growth>=@rev and eps_growth>=@eps and profit_growth>=@profit and beat_med_profit=='1' and beat_med_eps=='1'\")\n",
    "    return filtered_df"
   ]
  },
  {
   "cell_type": "code",
   "execution_count": null,
   "metadata": {},
   "outputs": [],
   "source": []
  }
 ],
 "metadata": {
  "kernelspec": {
   "display_name": "Python 3.8.0 64-bit",
   "language": "python",
   "name": "python38064bitd161921fe4624b2faef4a8a594be6760"
  },
  "language_info": {
   "codemirror_mode": {
    "name": "ipython",
    "version": 3
   },
   "file_extension": ".py",
   "mimetype": "text/x-python",
   "name": "python",
   "nbconvert_exporter": "python",
   "pygments_lexer": "ipython3",
   "version": "3.8.0"
  }
 },
 "nbformat": 4,
 "nbformat_minor": 2
}
